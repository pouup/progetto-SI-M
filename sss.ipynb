{
 "cells": [
  {
   "cell_type": "markdown",
   "metadata": {},
   "source": [
    "# Shamir's Secret Sharing\n",
    "\n",
    "L'obiettivo di questo notebook è mostrare il funzionamento dello Shamir's Secret Sharing.\n",
    "Si tratta di un algoritmo crittografico che consente di suddividere un segreto in $N$ parti, chiamate quote (share), tali che:\n",
    "- il segreto possa essere ricostruito solo se si possiedono almeno $K$ quote (soglia o threshold).\n",
    "- con meno di $K$ quote non si ottengono informazioni utili sul segreto (grazie all'aritmetica modulare sui campi finiti)."
   ]
  },
  {
   "cell_type": "markdown",
   "metadata": {},
   "source": [
    "## Preparazione\n",
    "\n",
    "Importiamo le librerie necessarie e definiamo una classe `Share` che rappresenta una singola quota del segreto."
   ]
  },
  {
   "cell_type": "code",
   "execution_count": 1,
   "metadata": {},
   "outputs": [],
   "source": [
    "import secrets\n",
    "import base64\n",
    "from typing import List\n",
    "\n",
    "from cryptography.hazmat.primitives.ciphers.aead import AESGCM\n",
    "from cryptography.exceptions import InvalidTag"
   ]
  },
  {
   "cell_type": "code",
   "execution_count": 2,
   "metadata": {},
   "outputs": [],
   "source": [
    "class Share:\n",
    "    def __init__(\n",
    "        self,\n",
    "        x: int,\n",
    "        y: int,\n",
    "    ):\n",
    "        self.x = x\n",
    "        self.y = y\n",
    "\n",
    "    def __repr__(self):\n",
    "        return (\n",
    "            f\"Share(x={self.x}, y={self.y})\"\n",
    "        )\n",
    "\n",
    "    def serialize(self) -> dict:\n",
    "        return {\n",
    "            \"x\": base64.b64encode(self.x.to_bytes((self.x.bit_length() + 7) // 8 or 1, \"big\")).decode(),\n",
    "            \"y\": base64.b64encode(self.y.to_bytes((self.y.bit_length() + 7) // 8 or 1, \"big\")).decode()\n",
    "        }\n",
    "\n",
    "    @staticmethod\n",
    "    def deserialize(data: dict) -> \"Share\":\n",
    "        x_bytes = base64.b64decode(data[\"x\"])\n",
    "        y_bytes = base64.b64decode(data[\"y\"])\n",
    "        x = int.from_bytes(x_bytes, \"big\")\n",
    "        y = int.from_bytes(y_bytes, \"big\")\n",
    "        return Share(\n",
    "            x=x,\n",
    "            y=y,\n",
    "        )"
   ]
  },
  {
   "cell_type": "markdown",
   "metadata": {},
   "source": [
    "## Polinomi sui campi finiti\n",
    "\n",
    "Utilizziamo un numero primo a 256 bit (NIST P-256) per l'aritmetica modulare e valutiamo i polinomi con il metodo di Horner."
   ]
  },
  {
   "cell_type": "code",
   "execution_count": 3,
   "metadata": {},
   "outputs": [],
   "source": [
    "PRIME: int = 0xffffffff00000001000000000000000000000000ffffffffffffffffffffffff\n",
    "\n",
    "def eval_polynomial(x: int, coeffs: List[int], prime: int = PRIME) -> int:\n",
    "    y = 0\n",
    "    tmp = 1\n",
    "    for coeff in coeffs:\n",
    "        y = (y + coeff * tmp) % prime\n",
    "        tmp = (tmp * x) % prime\n",
    "    return y"
   ]
  },
  {
   "cell_type": "markdown",
   "metadata": {},
   "source": [
    "## Suddivisione del segreto e cifratura del messaggio\n",
    "Generiamo una chiave casuale, la usiamo per cifrare un messaggio, e poi la suddividiamo in più quote."
   ]
  },
  {
   "cell_type": "code",
   "execution_count": 4,
   "metadata": {},
   "outputs": [],
   "source": [
    "def split_secret(\n",
    "    secret: int,\n",
    "    shares_count: int,\n",
    "    threshold: int\n",
    ") -> List[Share]:\n",
    "    poly_coeffs: List[int] = [secret] + [secrets.randbelow(PRIME - 1) + 1 for _ in range(threshold - 1)]\n",
    "\n",
    "    shares: List[Share] = []\n",
    "    for x in range(1, shares_count + 1):  # x starts from 1\n",
    "        y: int = eval_polynomial(x, poly_coeffs, PRIME)\n",
    "        shares.append(Share(x, y))\n",
    "\n",
    "    return shares\n",
    "\n"
   ]
  },
  {
   "cell_type": "code",
   "execution_count": null,
   "metadata": {},
   "outputs": [
    {
     "name": "stdout",
     "output_type": "stream",
     "text": [
      "Ciphertext: b'\\xb5\\t\\xc3\\x19\\x7f\\xac3\\xbe\\x1e\\xe6\\xc69vBQ\\xf0\\x7f\\x98@<\\xdc\\xef\\xb8\\xcf\\xc8\\x8d\\x93\\xaa-\\x1f\\xfb\\xbcDl\\xea\\xf3\\xea+\\xf8\\x90<\\xc1\\x87\\xb1e'\n",
      "Share(x=1, y=66893479876738493363665383929616020815086838301155644341685445868044924695828)\n",
      "Share(x=2, y=93694531338731097724797961713766269125526011793131151341871404833667438794517)\n",
      "Share(x=3, y=46642040950732683917560916795946083290442568047875701672671912724659076064076)\n",
      "Share(x=4, y=41528097923099500704651696125563036839922650480679609529620600849886934358456)\n",
      "Share(x=5, y=78352702255831548086070299702617129773966259091542874912717469209351013677657)\n"
     ]
    }
   ],
   "source": [
    "# example parameters\n",
    "message = \"My secret vault's key is 8347\"\n",
    "shares_count = 5\n",
    "threshold = 3\n",
    "\n",
    "key = secrets.token_bytes(32)\n",
    "cipher = AESGCM(key)\n",
    "nonce = secrets.token_bytes(12)\n",
    "message_bytes = message.encode()\n",
    "ciphertext = cipher.encrypt(nonce, message_bytes, None)\n",
    "print(f\"Ciphertext: {ciphertext}\")\n",
    "\n",
    "secret_int = int.from_bytes(key, \"big\")\n",
    "shares: List[Share] = split_secret(secret_int, shares_count, threshold)\n",
    "\n",
    "for share in shares:\n",
    "    print(share)\n",
    "\n",
    "serialized_shares = []\n",
    "for share in shares:\n",
    "    s = share.serialize()\n",
    "    serialized_shares.append(s)"
   ]
  },
  {
   "cell_type": "markdown",
   "metadata": {},
   "source": [
    "## Ricostruzione del segreto e decifratura del messaggio\n",
    "\n",
    "Utilizzando almeno `threshold` quote, ricostruiamo il segreto tramite interpolazione di Lagrange."
   ]
  },
  {
   "cell_type": "code",
   "execution_count": 6,
   "metadata": {},
   "outputs": [],
   "source": [
    "def reconstruct_secret(shares: List[Share], prime: int) -> int:\n",
    "    secret: int = 0\n",
    "    n: int = len(shares)\n",
    "\n",
    "    for i in range(n):\n",
    "        xi, yi = shares[i].x, shares[i].y\n",
    "        li: int = 1\n",
    "        for j in range(n):\n",
    "            if i != j:\n",
    "                xj = shares[j].x\n",
    "                numerator: int = (-xj) % prime\n",
    "                denominator: int = (xi - xj) % prime\n",
    "                li = (li * numerator * pow(denominator, -1, prime)) % prime\n",
    "        secret = (secret + yi * li) % prime\n",
    "\n",
    "    return secret"
   ]
  },
  {
   "cell_type": "code",
   "execution_count": 7,
   "metadata": {},
   "outputs": [
    {
     "name": "stdout",
     "output_type": "stream",
     "text": [
      "Decrypted message: My secret vault's key is 8347\n"
     ]
    }
   ],
   "source": [
    "shuffled_shares = secrets.SystemRandom().sample(serialized_shares, threshold)\n",
    "subset = [Share.deserialize(s) for s in shuffled_shares]\n",
    "\n",
    "secret_int_reconstructed = reconstruct_secret(subset, PRIME)\n",
    "key_reconstructed = secret_int_reconstructed.to_bytes(32, \"big\")\n",
    "\n",
    "cipher2 = AESGCM(key_reconstructed)\n",
    "try:\n",
    "    plaintext = cipher2.decrypt(nonce, ciphertext, None)\n",
    "    print(\"Decrypted message: \" + plaintext.decode())\n",
    "except InvalidTag as e:\n",
    "    print(\"Decryption failed\")"
   ]
  }
 ],
 "metadata": {
  "kernelspec": {
   "display_name": ".venv",
   "language": "python",
   "name": "python3"
  },
  "language_info": {
   "codemirror_mode": {
    "name": "ipython",
    "version": 3
   },
   "file_extension": ".py",
   "mimetype": "text/x-python",
   "name": "python",
   "nbconvert_exporter": "python",
   "pygments_lexer": "ipython3",
   "version": "3.12.3"
  }
 },
 "nbformat": 4,
 "nbformat_minor": 2
}
